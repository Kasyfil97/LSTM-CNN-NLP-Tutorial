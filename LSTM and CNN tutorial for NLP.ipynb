{
 "cells": [
  {
   "cell_type": "code",
   "execution_count": 1,
   "id": "ef03a339",
   "metadata": {
    "_cell_guid": "b1076dfc-b9ad-4769-8c92-a6c4dae69d19",
    "_uuid": "8f2839f25d086af736a60e9eeb907d3b93b6e0e5",
    "execution": {
     "iopub.execute_input": "2022-02-22T16:35:10.373672Z",
     "iopub.status.busy": "2022-02-22T16:35:10.372651Z",
     "iopub.status.idle": "2022-02-22T16:35:10.383149Z",
     "shell.execute_reply": "2022-02-22T16:35:10.384106Z",
     "shell.execute_reply.started": "2022-02-22T16:25:02.680071Z"
    },
    "papermill": {
     "duration": 0.032294,
     "end_time": "2022-02-22T16:35:10.384493",
     "exception": false,
     "start_time": "2022-02-22T16:35:10.352199",
     "status": "completed"
    },
    "tags": []
   },
   "outputs": [
    {
     "name": "stdout",
     "output_type": "stream",
     "text": [
      "/kaggle/input/nlp-getting-started/sample_submission.csv\n",
      "/kaggle/input/nlp-getting-started/train.csv\n",
      "/kaggle/input/nlp-getting-started/test.csv\n"
     ]
    }
   ],
   "source": [
    "# This Python 3 environment comes with many helpful analytics libraries installed\n",
    "# It is defined by the kaggle/python Docker image: https://github.com/kaggle/docker-python\n",
    "# For example, here's several helpful packages to load\n",
    "\n",
    "import numpy as np # linear algebra\n",
    "import pandas as pd # data processing, CSV file I/O (e.g. pd.read_csv)\n",
    "\n",
    "# Input data files are available in the read-only \"../input/\" directory\n",
    "# For example, running this (by clicking run or pressing Shift+Enter) will list all files under the input directory\n",
    "\n",
    "import os\n",
    "for dirname, _, filenames in os.walk('/kaggle/input'):\n",
    "    for filename in filenames:\n",
    "        print(os.path.join(dirname, filename))\n",
    "\n",
    "# You can write up to 20GB to the current directory (/kaggle/working/) that gets preserved as output when you create a version using \"Save & Run All\" \n",
    "# You can also write temporary files to /kaggle/temp/, but they won't be saved outside of the current session"
   ]
  },
  {
   "cell_type": "markdown",
   "id": "d7432d37",
   "metadata": {
    "papermill": {
     "duration": 0.016432,
     "end_time": "2022-02-22T16:35:10.419135",
     "exception": false,
     "start_time": "2022-02-22T16:35:10.402703",
     "status": "completed"
    },
    "tags": []
   },
   "source": [
    "# Seed Data"
   ]
  },
  {
   "cell_type": "code",
   "execution_count": 2,
   "id": "a5c1d4cf",
   "metadata": {
    "execution": {
     "iopub.execute_input": "2022-02-22T16:35:10.455186Z",
     "iopub.status.busy": "2022-02-22T16:35:10.454550Z",
     "iopub.status.idle": "2022-02-22T16:35:10.545520Z",
     "shell.execute_reply": "2022-02-22T16:35:10.546001Z",
     "shell.execute_reply.started": "2022-02-22T16:25:02.699824Z"
    },
    "papermill": {
     "duration": 0.110406,
     "end_time": "2022-02-22T16:35:10.546193",
     "exception": false,
     "start_time": "2022-02-22T16:35:10.435787",
     "status": "completed"
    },
    "tags": []
   },
   "outputs": [
    {
     "data": {
      "text/html": [
       "<div>\n",
       "<style scoped>\n",
       "    .dataframe tbody tr th:only-of-type {\n",
       "        vertical-align: middle;\n",
       "    }\n",
       "\n",
       "    .dataframe tbody tr th {\n",
       "        vertical-align: top;\n",
       "    }\n",
       "\n",
       "    .dataframe thead th {\n",
       "        text-align: right;\n",
       "    }\n",
       "</style>\n",
       "<table border=\"1\" class=\"dataframe\">\n",
       "  <thead>\n",
       "    <tr style=\"text-align: right;\">\n",
       "      <th></th>\n",
       "      <th>id</th>\n",
       "      <th>keyword</th>\n",
       "      <th>location</th>\n",
       "      <th>text</th>\n",
       "      <th>target</th>\n",
       "    </tr>\n",
       "  </thead>\n",
       "  <tbody>\n",
       "    <tr>\n",
       "      <th>0</th>\n",
       "      <td>1</td>\n",
       "      <td>NaN</td>\n",
       "      <td>NaN</td>\n",
       "      <td>Our Deeds are the Reason of this #earthquake M...</td>\n",
       "      <td>1</td>\n",
       "    </tr>\n",
       "    <tr>\n",
       "      <th>1</th>\n",
       "      <td>4</td>\n",
       "      <td>NaN</td>\n",
       "      <td>NaN</td>\n",
       "      <td>Forest fire near La Ronge Sask. Canada</td>\n",
       "      <td>1</td>\n",
       "    </tr>\n",
       "    <tr>\n",
       "      <th>2</th>\n",
       "      <td>5</td>\n",
       "      <td>NaN</td>\n",
       "      <td>NaN</td>\n",
       "      <td>All residents asked to 'shelter in place' are ...</td>\n",
       "      <td>1</td>\n",
       "    </tr>\n",
       "    <tr>\n",
       "      <th>3</th>\n",
       "      <td>6</td>\n",
       "      <td>NaN</td>\n",
       "      <td>NaN</td>\n",
       "      <td>13,000 people receive #wildfires evacuation or...</td>\n",
       "      <td>1</td>\n",
       "    </tr>\n",
       "    <tr>\n",
       "      <th>4</th>\n",
       "      <td>7</td>\n",
       "      <td>NaN</td>\n",
       "      <td>NaN</td>\n",
       "      <td>Just got sent this photo from Ruby #Alaska as ...</td>\n",
       "      <td>1</td>\n",
       "    </tr>\n",
       "  </tbody>\n",
       "</table>\n",
       "</div>"
      ],
      "text/plain": [
       "   id keyword location                                               text  \\\n",
       "0   1     NaN      NaN  Our Deeds are the Reason of this #earthquake M...   \n",
       "1   4     NaN      NaN             Forest fire near La Ronge Sask. Canada   \n",
       "2   5     NaN      NaN  All residents asked to 'shelter in place' are ...   \n",
       "3   6     NaN      NaN  13,000 people receive #wildfires evacuation or...   \n",
       "4   7     NaN      NaN  Just got sent this photo from Ruby #Alaska as ...   \n",
       "\n",
       "   target  \n",
       "0       1  \n",
       "1       1  \n",
       "2       1  \n",
       "3       1  \n",
       "4       1  "
      ]
     },
     "execution_count": 2,
     "metadata": {},
     "output_type": "execute_result"
    }
   ],
   "source": [
    "train_data=pd.read_csv('/kaggle/input/nlp-getting-started/train.csv')\n",
    "test_data=pd.read_csv('/kaggle/input/nlp-getting-started/test.csv')\n",
    "\n",
    "train_data.head()"
   ]
  },
  {
   "cell_type": "markdown",
   "id": "4b127895",
   "metadata": {
    "papermill": {
     "duration": 0.016504,
     "end_time": "2022-02-22T16:35:10.579378",
     "exception": false,
     "start_time": "2022-02-22T16:35:10.562874",
     "status": "completed"
    },
    "tags": []
   },
   "source": [
    "# Cleaning Data"
   ]
  },
  {
   "cell_type": "code",
   "execution_count": 3,
   "id": "5c1790e3",
   "metadata": {
    "execution": {
     "iopub.execute_input": "2022-02-22T16:35:10.616159Z",
     "iopub.status.busy": "2022-02-22T16:35:10.615560Z",
     "iopub.status.idle": "2022-02-22T16:35:10.634777Z",
     "shell.execute_reply": "2022-02-22T16:35:10.635309Z",
     "shell.execute_reply.started": "2022-02-22T16:25:02.774021Z"
    },
    "papermill": {
     "duration": 0.039299,
     "end_time": "2022-02-22T16:35:10.635468",
     "exception": false,
     "start_time": "2022-02-22T16:35:10.596169",
     "status": "completed"
    },
    "tags": []
   },
   "outputs": [
    {
     "data": {
      "text/html": [
       "<div>\n",
       "<style scoped>\n",
       "    .dataframe tbody tr th:only-of-type {\n",
       "        vertical-align: middle;\n",
       "    }\n",
       "\n",
       "    .dataframe tbody tr th {\n",
       "        vertical-align: top;\n",
       "    }\n",
       "\n",
       "    .dataframe thead th {\n",
       "        text-align: right;\n",
       "    }\n",
       "</style>\n",
       "<table border=\"1\" class=\"dataframe\">\n",
       "  <thead>\n",
       "    <tr style=\"text-align: right;\">\n",
       "      <th></th>\n",
       "      <th>id</th>\n",
       "      <th>keyword</th>\n",
       "      <th>location</th>\n",
       "      <th>text</th>\n",
       "      <th>target</th>\n",
       "    </tr>\n",
       "  </thead>\n",
       "  <tbody>\n",
       "    <tr>\n",
       "      <th>0</th>\n",
       "      <td>1</td>\n",
       "      <td>NaN</td>\n",
       "      <td>NaN</td>\n",
       "      <td>our deeds are the reason of this #earthquake m...</td>\n",
       "      <td>1</td>\n",
       "    </tr>\n",
       "    <tr>\n",
       "      <th>1</th>\n",
       "      <td>4</td>\n",
       "      <td>NaN</td>\n",
       "      <td>NaN</td>\n",
       "      <td>forest fire near la ronge sask. canada</td>\n",
       "      <td>1</td>\n",
       "    </tr>\n",
       "    <tr>\n",
       "      <th>2</th>\n",
       "      <td>5</td>\n",
       "      <td>NaN</td>\n",
       "      <td>NaN</td>\n",
       "      <td>all residents asked to 'shelter in place' are ...</td>\n",
       "      <td>1</td>\n",
       "    </tr>\n",
       "    <tr>\n",
       "      <th>3</th>\n",
       "      <td>6</td>\n",
       "      <td>NaN</td>\n",
       "      <td>NaN</td>\n",
       "      <td>13,000 people receive #wildfires evacuation or...</td>\n",
       "      <td>1</td>\n",
       "    </tr>\n",
       "    <tr>\n",
       "      <th>4</th>\n",
       "      <td>7</td>\n",
       "      <td>NaN</td>\n",
       "      <td>NaN</td>\n",
       "      <td>just got sent this photo from ruby #alaska as ...</td>\n",
       "      <td>1</td>\n",
       "    </tr>\n",
       "  </tbody>\n",
       "</table>\n",
       "</div>"
      ],
      "text/plain": [
       "   id keyword location                                               text  \\\n",
       "0   1     NaN      NaN  our deeds are the reason of this #earthquake m...   \n",
       "1   4     NaN      NaN             forest fire near la ronge sask. canada   \n",
       "2   5     NaN      NaN  all residents asked to 'shelter in place' are ...   \n",
       "3   6     NaN      NaN  13,000 people receive #wildfires evacuation or...   \n",
       "4   7     NaN      NaN  just got sent this photo from ruby #alaska as ...   \n",
       "\n",
       "   target  \n",
       "0       1  \n",
       "1       1  \n",
       "2       1  \n",
       "3       1  \n",
       "4       1  "
      ]
     },
     "execution_count": 3,
     "metadata": {},
     "output_type": "execute_result"
    }
   ],
   "source": [
    "#lower case\n",
    "train_data['text']=train_data['text'].str.lower()\n",
    "test_data['text']=test_data['text'].str.lower()\n",
    "train_data.head()"
   ]
  },
  {
   "cell_type": "code",
   "execution_count": 4,
   "id": "93c50720",
   "metadata": {
    "execution": {
     "iopub.execute_input": "2022-02-22T16:35:10.685464Z",
     "iopub.status.busy": "2022-02-22T16:35:10.680320Z",
     "iopub.status.idle": "2022-02-22T16:35:10.709438Z",
     "shell.execute_reply": "2022-02-22T16:35:10.708961Z",
     "shell.execute_reply.started": "2022-02-22T16:25:02.806862Z"
    },
    "papermill": {
     "duration": 0.057091,
     "end_time": "2022-02-22T16:35:10.709573",
     "exception": false,
     "start_time": "2022-02-22T16:35:10.652482",
     "status": "completed"
    },
    "tags": []
   },
   "outputs": [
    {
     "data": {
      "text/html": [
       "<div>\n",
       "<style scoped>\n",
       "    .dataframe tbody tr th:only-of-type {\n",
       "        vertical-align: middle;\n",
       "    }\n",
       "\n",
       "    .dataframe tbody tr th {\n",
       "        vertical-align: top;\n",
       "    }\n",
       "\n",
       "    .dataframe thead th {\n",
       "        text-align: right;\n",
       "    }\n",
       "</style>\n",
       "<table border=\"1\" class=\"dataframe\">\n",
       "  <thead>\n",
       "    <tr style=\"text-align: right;\">\n",
       "      <th></th>\n",
       "      <th>id</th>\n",
       "      <th>keyword</th>\n",
       "      <th>location</th>\n",
       "      <th>text</th>\n",
       "      <th>target</th>\n",
       "    </tr>\n",
       "  </thead>\n",
       "  <tbody>\n",
       "    <tr>\n",
       "      <th>0</th>\n",
       "      <td>1</td>\n",
       "      <td>NaN</td>\n",
       "      <td>NaN</td>\n",
       "      <td>our deeds are the reason of this #earthquake m...</td>\n",
       "      <td>1</td>\n",
       "    </tr>\n",
       "    <tr>\n",
       "      <th>1</th>\n",
       "      <td>4</td>\n",
       "      <td>NaN</td>\n",
       "      <td>NaN</td>\n",
       "      <td>forest fire near la ronge sask. canada</td>\n",
       "      <td>1</td>\n",
       "    </tr>\n",
       "    <tr>\n",
       "      <th>2</th>\n",
       "      <td>5</td>\n",
       "      <td>NaN</td>\n",
       "      <td>NaN</td>\n",
       "      <td>all residents asked to 'shelter in place' are ...</td>\n",
       "      <td>1</td>\n",
       "    </tr>\n",
       "    <tr>\n",
       "      <th>3</th>\n",
       "      <td>6</td>\n",
       "      <td>NaN</td>\n",
       "      <td>NaN</td>\n",
       "      <td>13,000 people receive #wildfires evacuation or...</td>\n",
       "      <td>1</td>\n",
       "    </tr>\n",
       "    <tr>\n",
       "      <th>4</th>\n",
       "      <td>7</td>\n",
       "      <td>NaN</td>\n",
       "      <td>NaN</td>\n",
       "      <td>just got sent this photo from ruby #alaska as ...</td>\n",
       "      <td>1</td>\n",
       "    </tr>\n",
       "  </tbody>\n",
       "</table>\n",
       "</div>"
      ],
      "text/plain": [
       "   id keyword location                                               text  \\\n",
       "0   1     NaN      NaN  our deeds are the reason of this #earthquake m...   \n",
       "1   4     NaN      NaN             forest fire near la ronge sask. canada   \n",
       "2   5     NaN      NaN  all residents asked to 'shelter in place' are ...   \n",
       "3   6     NaN      NaN  13,000 people receive #wildfires evacuation or...   \n",
       "4   7     NaN      NaN  just got sent this photo from ruby #alaska as ...   \n",
       "\n",
       "   target  \n",
       "0       1  \n",
       "1       1  \n",
       "2       1  \n",
       "3       1  \n",
       "4       1  "
      ]
     },
     "execution_count": 4,
     "metadata": {},
     "output_type": "execute_result"
    }
   ],
   "source": [
    "#remove link\n",
    "import re\n",
    "\n",
    "def remove_link(text):\n",
    "    link = re.compile(r'https?://\\S+|www\\.\\S+')\n",
    "    return link.sub(r'', text)\n",
    "\n",
    "train_data['text']=train_data['text'].apply(remove_link)\n",
    "test_data['text']=test_data['text'].apply(remove_link)\n",
    "train_data.head()"
   ]
  },
  {
   "cell_type": "code",
   "execution_count": 5,
   "id": "6e23fbad",
   "metadata": {
    "execution": {
     "iopub.execute_input": "2022-02-22T16:35:10.750813Z",
     "iopub.status.busy": "2022-02-22T16:35:10.750210Z",
     "iopub.status.idle": "2022-02-22T16:35:14.059100Z",
     "shell.execute_reply": "2022-02-22T16:35:14.058462Z",
     "shell.execute_reply.started": "2022-02-22T16:25:02.885458Z"
    },
    "papermill": {
     "duration": 3.332031,
     "end_time": "2022-02-22T16:35:14.059242",
     "exception": false,
     "start_time": "2022-02-22T16:35:10.727211",
     "status": "completed"
    },
    "tags": []
   },
   "outputs": [
    {
     "data": {
      "text/html": [
       "<div>\n",
       "<style scoped>\n",
       "    .dataframe tbody tr th:only-of-type {\n",
       "        vertical-align: middle;\n",
       "    }\n",
       "\n",
       "    .dataframe tbody tr th {\n",
       "        vertical-align: top;\n",
       "    }\n",
       "\n",
       "    .dataframe thead th {\n",
       "        text-align: right;\n",
       "    }\n",
       "</style>\n",
       "<table border=\"1\" class=\"dataframe\">\n",
       "  <thead>\n",
       "    <tr style=\"text-align: right;\">\n",
       "      <th></th>\n",
       "      <th>id</th>\n",
       "      <th>keyword</th>\n",
       "      <th>location</th>\n",
       "      <th>text</th>\n",
       "      <th>target</th>\n",
       "    </tr>\n",
       "  </thead>\n",
       "  <tbody>\n",
       "    <tr>\n",
       "      <th>0</th>\n",
       "      <td>1</td>\n",
       "      <td>NaN</td>\n",
       "      <td>NaN</td>\n",
       "      <td>deeds reason #earthquake may allah forgive us</td>\n",
       "      <td>1</td>\n",
       "    </tr>\n",
       "    <tr>\n",
       "      <th>1</th>\n",
       "      <td>4</td>\n",
       "      <td>NaN</td>\n",
       "      <td>NaN</td>\n",
       "      <td>forest fire near la ronge sask. canada</td>\n",
       "      <td>1</td>\n",
       "    </tr>\n",
       "    <tr>\n",
       "      <th>2</th>\n",
       "      <td>5</td>\n",
       "      <td>NaN</td>\n",
       "      <td>NaN</td>\n",
       "      <td>residents asked 'shelter place' notified offic...</td>\n",
       "      <td>1</td>\n",
       "    </tr>\n",
       "    <tr>\n",
       "      <th>3</th>\n",
       "      <td>6</td>\n",
       "      <td>NaN</td>\n",
       "      <td>NaN</td>\n",
       "      <td>13,000 people receive #wildfires evacuation or...</td>\n",
       "      <td>1</td>\n",
       "    </tr>\n",
       "    <tr>\n",
       "      <th>4</th>\n",
       "      <td>7</td>\n",
       "      <td>NaN</td>\n",
       "      <td>NaN</td>\n",
       "      <td>got sent photo ruby #alaska smoke #wildfires p...</td>\n",
       "      <td>1</td>\n",
       "    </tr>\n",
       "  </tbody>\n",
       "</table>\n",
       "</div>"
      ],
      "text/plain": [
       "   id keyword location                                               text  \\\n",
       "0   1     NaN      NaN      deeds reason #earthquake may allah forgive us   \n",
       "1   4     NaN      NaN             forest fire near la ronge sask. canada   \n",
       "2   5     NaN      NaN  residents asked 'shelter place' notified offic...   \n",
       "3   6     NaN      NaN  13,000 people receive #wildfires evacuation or...   \n",
       "4   7     NaN      NaN  got sent photo ruby #alaska smoke #wildfires p...   \n",
       "\n",
       "   target  \n",
       "0       1  \n",
       "1       1  \n",
       "2       1  \n",
       "3       1  \n",
       "4       1  "
      ]
     },
     "execution_count": 5,
     "metadata": {},
     "output_type": "execute_result"
    }
   ],
   "source": [
    "#remove stopword\n",
    "from nltk.corpus import stopwords\n",
    "\n",
    "def stopword_remover(text):\n",
    "    stopword=stopwords.words('english')\n",
    "    words=text.split(\" \")\n",
    "    result=[word for word in words if word not in stopword]\n",
    "    return \" \".join([word for word in result])\n",
    "\n",
    "train_data['text']=train_data['text'].apply(stopword_remover)\n",
    "test_data['text']=test_data['text'].apply(stopword_remover)\n",
    "train_data.head()"
   ]
  },
  {
   "cell_type": "code",
   "execution_count": 6,
   "id": "f96161e5",
   "metadata": {
    "execution": {
     "iopub.execute_input": "2022-02-22T16:35:14.101586Z",
     "iopub.status.busy": "2022-02-22T16:35:14.098189Z",
     "iopub.status.idle": "2022-02-22T16:35:14.229181Z",
     "shell.execute_reply": "2022-02-22T16:35:14.228671Z",
     "shell.execute_reply.started": "2022-02-22T16:25:06.388625Z"
    },
    "papermill": {
     "duration": 0.151753,
     "end_time": "2022-02-22T16:35:14.229322",
     "exception": false,
     "start_time": "2022-02-22T16:35:14.077569",
     "status": "completed"
    },
    "tags": []
   },
   "outputs": [
    {
     "data": {
      "text/html": [
       "<div>\n",
       "<style scoped>\n",
       "    .dataframe tbody tr th:only-of-type {\n",
       "        vertical-align: middle;\n",
       "    }\n",
       "\n",
       "    .dataframe tbody tr th {\n",
       "        vertical-align: top;\n",
       "    }\n",
       "\n",
       "    .dataframe thead th {\n",
       "        text-align: right;\n",
       "    }\n",
       "</style>\n",
       "<table border=\"1\" class=\"dataframe\">\n",
       "  <thead>\n",
       "    <tr style=\"text-align: right;\">\n",
       "      <th></th>\n",
       "      <th>id</th>\n",
       "      <th>keyword</th>\n",
       "      <th>location</th>\n",
       "      <th>text</th>\n",
       "      <th>target</th>\n",
       "    </tr>\n",
       "  </thead>\n",
       "  <tbody>\n",
       "    <tr>\n",
       "      <th>0</th>\n",
       "      <td>1</td>\n",
       "      <td>NaN</td>\n",
       "      <td>NaN</td>\n",
       "      <td>deeds reason #earthquake may allah forgive us</td>\n",
       "      <td>1</td>\n",
       "    </tr>\n",
       "    <tr>\n",
       "      <th>1</th>\n",
       "      <td>4</td>\n",
       "      <td>NaN</td>\n",
       "      <td>NaN</td>\n",
       "      <td>forest fire near la ronge sask canada</td>\n",
       "      <td>1</td>\n",
       "    </tr>\n",
       "    <tr>\n",
       "      <th>2</th>\n",
       "      <td>5</td>\n",
       "      <td>NaN</td>\n",
       "      <td>NaN</td>\n",
       "      <td>residents asked shelter place notified officer...</td>\n",
       "      <td>1</td>\n",
       "    </tr>\n",
       "    <tr>\n",
       "      <th>3</th>\n",
       "      <td>6</td>\n",
       "      <td>NaN</td>\n",
       "      <td>NaN</td>\n",
       "      <td>13000 people receive #wildfires evacuation ord...</td>\n",
       "      <td>1</td>\n",
       "    </tr>\n",
       "    <tr>\n",
       "      <th>4</th>\n",
       "      <td>7</td>\n",
       "      <td>NaN</td>\n",
       "      <td>NaN</td>\n",
       "      <td>got sent photo ruby #alaska smoke #wildfires p...</td>\n",
       "      <td>1</td>\n",
       "    </tr>\n",
       "    <tr>\n",
       "      <th>...</th>\n",
       "      <td>...</td>\n",
       "      <td>...</td>\n",
       "      <td>...</td>\n",
       "      <td>...</td>\n",
       "      <td>...</td>\n",
       "    </tr>\n",
       "    <tr>\n",
       "      <th>7608</th>\n",
       "      <td>10869</td>\n",
       "      <td>NaN</td>\n",
       "      <td>NaN</td>\n",
       "      <td>two giant cranes holding bridge collapse nearb...</td>\n",
       "      <td>1</td>\n",
       "    </tr>\n",
       "    <tr>\n",
       "      <th>7609</th>\n",
       "      <td>10870</td>\n",
       "      <td>NaN</td>\n",
       "      <td>NaN</td>\n",
       "      <td>@aria_ahrary @thetawniest control wild fires c...</td>\n",
       "      <td>1</td>\n",
       "    </tr>\n",
       "    <tr>\n",
       "      <th>7610</th>\n",
       "      <td>10871</td>\n",
       "      <td>NaN</td>\n",
       "      <td>NaN</td>\n",
       "      <td>m194 [0104 utc]5km volcano hawaii</td>\n",
       "      <td>1</td>\n",
       "    </tr>\n",
       "    <tr>\n",
       "      <th>7611</th>\n",
       "      <td>10872</td>\n",
       "      <td>NaN</td>\n",
       "      <td>NaN</td>\n",
       "      <td>police investigating e-bike collided car littl...</td>\n",
       "      <td>1</td>\n",
       "    </tr>\n",
       "    <tr>\n",
       "      <th>7612</th>\n",
       "      <td>10873</td>\n",
       "      <td>NaN</td>\n",
       "      <td>NaN</td>\n",
       "      <td>latest homes razed northern california wildfir...</td>\n",
       "      <td>1</td>\n",
       "    </tr>\n",
       "  </tbody>\n",
       "</table>\n",
       "<p>7613 rows × 5 columns</p>\n",
       "</div>"
      ],
      "text/plain": [
       "         id keyword location  \\\n",
       "0         1     NaN      NaN   \n",
       "1         4     NaN      NaN   \n",
       "2         5     NaN      NaN   \n",
       "3         6     NaN      NaN   \n",
       "4         7     NaN      NaN   \n",
       "...     ...     ...      ...   \n",
       "7608  10869     NaN      NaN   \n",
       "7609  10870     NaN      NaN   \n",
       "7610  10871     NaN      NaN   \n",
       "7611  10872     NaN      NaN   \n",
       "7612  10873     NaN      NaN   \n",
       "\n",
       "                                                   text  target  \n",
       "0         deeds reason #earthquake may allah forgive us       1  \n",
       "1                 forest fire near la ronge sask canada       1  \n",
       "2     residents asked shelter place notified officer...       1  \n",
       "3     13000 people receive #wildfires evacuation ord...       1  \n",
       "4     got sent photo ruby #alaska smoke #wildfires p...       1  \n",
       "...                                                 ...     ...  \n",
       "7608  two giant cranes holding bridge collapse nearb...       1  \n",
       "7609  @aria_ahrary @thetawniest control wild fires c...       1  \n",
       "7610                 m194 [0104 utc]5km volcano hawaii        1  \n",
       "7611  police investigating e-bike collided car littl...       1  \n",
       "7612  latest homes razed northern california wildfir...       1  \n",
       "\n",
       "[7613 rows x 5 columns]"
      ]
     },
     "execution_count": 6,
     "metadata": {},
     "output_type": "execute_result"
    }
   ],
   "source": [
    "#remove functuation\n",
    "functuation=['.',',','?','!','\"',':',';',\"'\"]\n",
    "def functuation_remover(text):\n",
    "    for word in text:\n",
    "        if word in functuation:\n",
    "            text=text.replace(word,'')\n",
    "    return text\n",
    "train_data['text']=train_data['text'].apply(functuation_remover)\n",
    "test_data['text']=test_data['text'].apply(functuation_remover)\n",
    "train_data"
   ]
  },
  {
   "cell_type": "code",
   "execution_count": 7,
   "id": "e1b56f64",
   "metadata": {
    "execution": {
     "iopub.execute_input": "2022-02-22T16:35:14.273545Z",
     "iopub.status.busy": "2022-02-22T16:35:14.268458Z",
     "iopub.status.idle": "2022-02-22T16:35:14.276391Z",
     "shell.execute_reply": "2022-02-22T16:35:14.276961Z",
     "shell.execute_reply.started": "2022-02-22T16:25:06.603866Z"
    },
    "papermill": {
     "duration": 0.029427,
     "end_time": "2022-02-22T16:35:14.277134",
     "exception": false,
     "start_time": "2022-02-22T16:35:14.247707",
     "status": "completed"
    },
    "tags": []
   },
   "outputs": [
    {
     "data": {
      "text/plain": [
       "31                         Birmingham\n",
       "32      Est. September 2012 - Bristol\n",
       "33                             AFRICA\n",
       "34                   Philadelphia, PA\n",
       "35                         London, UK\n",
       "                    ...              \n",
       "7575                               TN\n",
       "7577           #NewcastleuponTyne #UK\n",
       "7579                Vancouver, Canada\n",
       "7580                          London \n",
       "7581                          Lincoln\n",
       "Name: location, Length: 5080, dtype: object"
      ]
     },
     "execution_count": 7,
     "metadata": {},
     "output_type": "execute_result"
    }
   ],
   "source": [
    "train_data['location'].dropna()"
   ]
  },
  {
   "cell_type": "markdown",
   "id": "38f3b6eb",
   "metadata": {
    "papermill": {
     "duration": 0.018039,
     "end_time": "2022-02-22T16:35:14.313587",
     "exception": false,
     "start_time": "2022-02-22T16:35:14.295548",
     "status": "completed"
    },
    "tags": []
   },
   "source": [
    "# preprocessing"
   ]
  },
  {
   "cell_type": "code",
   "execution_count": 8,
   "id": "b2829e8e",
   "metadata": {
    "execution": {
     "iopub.execute_input": "2022-02-22T16:35:14.355757Z",
     "iopub.status.busy": "2022-02-22T16:35:14.354861Z",
     "iopub.status.idle": "2022-02-22T16:35:14.366179Z",
     "shell.execute_reply": "2022-02-22T16:35:14.366688Z",
     "shell.execute_reply.started": "2022-02-22T16:25:06.615242Z"
    },
    "papermill": {
     "duration": 0.033302,
     "end_time": "2022-02-22T16:35:14.366848",
     "exception": false,
     "start_time": "2022-02-22T16:35:14.333546",
     "status": "completed"
    },
    "tags": []
   },
   "outputs": [],
   "source": [
    "#split the data into training and validation\n",
    "from sklearn.model_selection import train_test_split\n",
    "\n",
    "y=train_data['target']\n",
    "y=y.to_numpy()\n",
    "x=train_data.drop('target', axis=1)\n",
    "\n",
    "x_train, x_valid, y_train, y_valid=train_test_split(x,y, \n",
    "                                                    train_size=0.8,  \n",
    "                                                    random_state=42)"
   ]
  },
  {
   "cell_type": "code",
   "execution_count": 9,
   "id": "53e64b21",
   "metadata": {
    "execution": {
     "iopub.execute_input": "2022-02-22T16:35:14.407310Z",
     "iopub.status.busy": "2022-02-22T16:35:14.406443Z",
     "iopub.status.idle": "2022-02-22T16:35:14.418016Z",
     "shell.execute_reply": "2022-02-22T16:35:14.418511Z",
     "shell.execute_reply.started": "2022-02-22T16:25:06.631256Z"
    },
    "papermill": {
     "duration": 0.033249,
     "end_time": "2022-02-22T16:35:14.418674",
     "exception": false,
     "start_time": "2022-02-22T16:35:14.385425",
     "status": "completed"
    },
    "tags": []
   },
   "outputs": [
    {
     "data": {
      "text/html": [
       "<div>\n",
       "<style scoped>\n",
       "    .dataframe tbody tr th:only-of-type {\n",
       "        vertical-align: middle;\n",
       "    }\n",
       "\n",
       "    .dataframe tbody tr th {\n",
       "        vertical-align: top;\n",
       "    }\n",
       "\n",
       "    .dataframe thead th {\n",
       "        text-align: right;\n",
       "    }\n",
       "</style>\n",
       "<table border=\"1\" class=\"dataframe\">\n",
       "  <thead>\n",
       "    <tr style=\"text-align: right;\">\n",
       "      <th></th>\n",
       "      <th>id</th>\n",
       "      <th>keyword</th>\n",
       "      <th>location</th>\n",
       "      <th>text</th>\n",
       "    </tr>\n",
       "  </thead>\n",
       "  <tbody>\n",
       "    <tr>\n",
       "      <th>2644</th>\n",
       "      <td>3796</td>\n",
       "      <td>destruction</td>\n",
       "      <td>NaN</td>\n",
       "      <td>new weapon cause un-imaginable destruction</td>\n",
       "    </tr>\n",
       "    <tr>\n",
       "      <th>2227</th>\n",
       "      <td>3185</td>\n",
       "      <td>deluge</td>\n",
       "      <td>NaN</td>\n",
       "      <td>f$&amp;amp@ing things #gishwhes got soaked deluge ...</td>\n",
       "    </tr>\n",
       "    <tr>\n",
       "      <th>5448</th>\n",
       "      <td>7769</td>\n",
       "      <td>police</td>\n",
       "      <td>UK</td>\n",
       "      <td>dt @georgegalloway rt @galloway4mayor ûïthe c...</td>\n",
       "    </tr>\n",
       "    <tr>\n",
       "      <th>132</th>\n",
       "      <td>191</td>\n",
       "      <td>aftershock</td>\n",
       "      <td>NaN</td>\n",
       "      <td>aftershock back school kick great want thank e...</td>\n",
       "    </tr>\n",
       "    <tr>\n",
       "      <th>6845</th>\n",
       "      <td>9810</td>\n",
       "      <td>trauma</td>\n",
       "      <td>Montgomery County, MD</td>\n",
       "      <td>response trauma children addicts develop defen...</td>\n",
       "    </tr>\n",
       "    <tr>\n",
       "      <th>...</th>\n",
       "      <td>...</td>\n",
       "      <td>...</td>\n",
       "      <td>...</td>\n",
       "      <td>...</td>\n",
       "    </tr>\n",
       "    <tr>\n",
       "      <th>1835</th>\n",
       "      <td>2640</td>\n",
       "      <td>crashed</td>\n",
       "      <td>Somewhere</td>\n",
       "      <td>@smusx16475 skype crashed u host</td>\n",
       "    </tr>\n",
       "    <tr>\n",
       "      <th>506</th>\n",
       "      <td>731</td>\n",
       "      <td>attacked</td>\n",
       "      <td>Arundel</td>\n",
       "      <td>christian attacked muslims temple mount waving...</td>\n",
       "    </tr>\n",
       "    <tr>\n",
       "      <th>3592</th>\n",
       "      <td>5131</td>\n",
       "      <td>fatal</td>\n",
       "      <td>New South Wales, Australia</td>\n",
       "      <td>man charged fatal crash near dubbo refused bai...</td>\n",
       "    </tr>\n",
       "    <tr>\n",
       "      <th>6740</th>\n",
       "      <td>9657</td>\n",
       "      <td>thunderstorm</td>\n",
       "      <td>NaN</td>\n",
       "      <td>#usnwsgov severe weather statement issued augu...</td>\n",
       "    </tr>\n",
       "    <tr>\n",
       "      <th>1634</th>\n",
       "      <td>2361</td>\n",
       "      <td>collapsed</td>\n",
       "      <td>NaN</td>\n",
       "      <td>great british &amp;ltb&amp;gtbake&amp;lt/b&amp;gt offs back do...</td>\n",
       "    </tr>\n",
       "  </tbody>\n",
       "</table>\n",
       "<p>1523 rows × 4 columns</p>\n",
       "</div>"
      ],
      "text/plain": [
       "        id       keyword                    location  \\\n",
       "2644  3796   destruction                         NaN   \n",
       "2227  3185        deluge                         NaN   \n",
       "5448  7769        police                          UK   \n",
       "132    191    aftershock                         NaN   \n",
       "6845  9810        trauma       Montgomery County, MD   \n",
       "...    ...           ...                         ...   \n",
       "1835  2640       crashed                   Somewhere   \n",
       "506    731      attacked                    Arundel    \n",
       "3592  5131         fatal  New South Wales, Australia   \n",
       "6740  9657  thunderstorm                         NaN   \n",
       "1634  2361     collapsed                         NaN   \n",
       "\n",
       "                                                   text  \n",
       "2644         new weapon cause un-imaginable destruction  \n",
       "2227  f$&amp@ing things #gishwhes got soaked deluge ...  \n",
       "5448  dt @georgegalloway rt @galloway4mayor ûïthe c...  \n",
       "132   aftershock back school kick great want thank e...  \n",
       "6845  response trauma children addicts develop defen...  \n",
       "...                                                 ...  \n",
       "1835                   @smusx16475 skype crashed u host  \n",
       "506   christian attacked muslims temple mount waving...  \n",
       "3592  man charged fatal crash near dubbo refused bai...  \n",
       "6740  #usnwsgov severe weather statement issued augu...  \n",
       "1634  great british &ltb&gtbake&lt/b&gt offs back do...  \n",
       "\n",
       "[1523 rows x 4 columns]"
      ]
     },
     "execution_count": 9,
     "metadata": {},
     "output_type": "execute_result"
    }
   ],
   "source": [
    "x_valid"
   ]
  },
  {
   "cell_type": "code",
   "execution_count": 10,
   "id": "499665e8",
   "metadata": {
    "execution": {
     "iopub.execute_input": "2022-02-22T16:35:14.460312Z",
     "iopub.status.busy": "2022-02-22T16:35:14.459381Z",
     "iopub.status.idle": "2022-02-22T16:35:20.822857Z",
     "shell.execute_reply": "2022-02-22T16:35:20.823332Z",
     "shell.execute_reply.started": "2022-02-22T16:25:06.656768Z"
    },
    "papermill": {
     "duration": 6.385789,
     "end_time": "2022-02-22T16:35:20.823494",
     "exception": false,
     "start_time": "2022-02-22T16:35:14.437705",
     "status": "completed"
    },
    "tags": []
   },
   "outputs": [
    {
     "name": "stdout",
     "output_type": "stream",
     "text": [
      "(6090, 40)\n",
      "(1523, 40)\n",
      "(3263, 40)\n"
     ]
    }
   ],
   "source": [
    "from tensorflow.keras.preprocessing.text import Tokenizer\n",
    "from tensorflow.keras.preprocessing.sequence import pad_sequences\n",
    "\n",
    "vocab_size=100000\n",
    "embedding_dim=50\n",
    "max_length=40\n",
    "\n",
    "#set up tokenizer\n",
    "tokenizer=Tokenizer(oov_token='<OOV>', num_words=vocab_size)\n",
    "tokenizer.fit_on_texts(x_train['text'])\n",
    "word_index=tokenizer.word_index\n",
    "\n",
    "#text to sequences and padd training data\n",
    "training_sequences=tokenizer.texts_to_sequences(x_train['text'])\n",
    "training_padded=pad_sequences(training_sequences, padding='post', maxlen=max_length)\n",
    "\n",
    "#text to sequences and padd testing data\n",
    "testing_sequences=tokenizer.texts_to_sequences(test_data['text'])\n",
    "testing_padded=pad_sequences(testing_sequences, padding='post', maxlen=max_length)\n",
    "\n",
    "#text to sequences and padd testing data\n",
    "valid_sequences=tokenizer.texts_to_sequences(x_valid['text'])\n",
    "valid_padded=pad_sequences(valid_sequences, padding='post', maxlen=max_length)\n",
    "\n",
    "print(training_padded.shape)\n",
    "print(valid_padded.shape)\n",
    "print(testing_padded.shape)"
   ]
  },
  {
   "cell_type": "markdown",
   "id": "6aa76377",
   "metadata": {
    "papermill": {
     "duration": 0.0193,
     "end_time": "2022-02-22T16:35:20.863177",
     "exception": false,
     "start_time": "2022-02-22T16:35:20.843877",
     "status": "completed"
    },
    "tags": []
   },
   "source": [
    "# Creating and fitting Model"
   ]
  },
  {
   "cell_type": "code",
   "execution_count": 11,
   "id": "0294e822",
   "metadata": {
    "execution": {
     "iopub.execute_input": "2022-02-22T16:35:20.905904Z",
     "iopub.status.busy": "2022-02-22T16:35:20.904997Z",
     "iopub.status.idle": "2022-02-22T16:35:21.623372Z",
     "shell.execute_reply": "2022-02-22T16:35:21.624008Z",
     "shell.execute_reply.started": "2022-02-22T16:25:09.336276Z"
    },
    "papermill": {
     "duration": 0.741474,
     "end_time": "2022-02-22T16:35:21.624231",
     "exception": false,
     "start_time": "2022-02-22T16:35:20.882757",
     "status": "completed"
    },
    "tags": []
   },
   "outputs": [
    {
     "name": "stderr",
     "output_type": "stream",
     "text": [
      "2022-02-22 16:35:20.954049: I tensorflow/core/common_runtime/process_util.cc:146] Creating new thread pool with default inter op setting: 2. Tune using inter_op_parallelism_threads for best performance.\n"
     ]
    },
    {
     "name": "stdout",
     "output_type": "stream",
     "text": [
      "Model: \"sequential\"\n",
      "_________________________________________________________________\n",
      "Layer (type)                 Output Shape              Param #   \n",
      "=================================================================\n",
      "embedding (Embedding)        (None, 40, 50)            5000000   \n",
      "_________________________________________________________________\n",
      "conv1d (Conv1D)              (None, 38, 32)            4832      \n",
      "_________________________________________________________________\n",
      "max_pooling1d (MaxPooling1D) (None, 12, 32)            0         \n",
      "_________________________________________________________________\n",
      "bidirectional (Bidirectional (None, 64)                16640     \n",
      "_________________________________________________________________\n",
      "dense (Dense)                (None, 64)                4160      \n",
      "_________________________________________________________________\n",
      "dense_1 (Dense)              (None, 32)                2080      \n",
      "_________________________________________________________________\n",
      "dense_2 (Dense)              (None, 1)                 33        \n",
      "=================================================================\n",
      "Total params: 5,027,745\n",
      "Trainable params: 5,027,745\n",
      "Non-trainable params: 0\n",
      "_________________________________________________________________\n"
     ]
    }
   ],
   "source": [
    "#creat the model\n",
    "# in this section, we use \n",
    "import tensorflow as tf\n",
    "from tensorflow.keras.models import Sequential\n",
    "import tensorflow.keras.layers \n",
    "\n",
    "model = tf.keras.Sequential([\n",
    "    tf.keras.layers.Embedding(vocab_size, embedding_dim, input_length=training_padded.shape[1]),\n",
    "    tf.keras.layers.Conv1D(32, kernel_size=3, activation='relu'),\n",
    "    tf.keras.layers.MaxPooling1D(3),\n",
    "    tf.keras.layers.Bidirectional(tf.keras.layers.LSTM(32)),\n",
    "    tf.keras.layers.Dense(64, activation='relu'),\n",
    "    tf.keras.layers.Dense(32, activation='relu'),\n",
    "    tf.keras.layers.Dense(1, activation='sigmoid')\n",
    "])\n",
    "model.compile(loss='binary_crossentropy',\n",
    "              optimizer=tf.keras.optimizers.Adam(learning_rate=0.001),\n",
    "              metrics=['accuracy'])\n",
    "model.summary()"
   ]
  },
  {
   "cell_type": "code",
   "execution_count": 12,
   "id": "8917bd6a",
   "metadata": {
    "execution": {
     "iopub.execute_input": "2022-02-22T16:35:21.672712Z",
     "iopub.status.busy": "2022-02-22T16:35:21.671881Z",
     "iopub.status.idle": "2022-02-22T16:43:30.715026Z",
     "shell.execute_reply": "2022-02-22T16:43:30.715645Z",
     "shell.execute_reply.started": "2022-02-22T16:25:09.995416Z"
    },
    "papermill": {
     "duration": 489.068973,
     "end_time": "2022-02-22T16:43:30.715841",
     "exception": false,
     "start_time": "2022-02-22T16:35:21.646868",
     "status": "completed"
    },
    "tags": []
   },
   "outputs": [
    {
     "name": "stdout",
     "output_type": "stream",
     "text": [
      "Epoch 1/50\n"
     ]
    },
    {
     "name": "stderr",
     "output_type": "stream",
     "text": [
      "2022-02-22 16:35:21.722252: I tensorflow/compiler/mlir/mlir_graph_optimization_pass.cc:185] None of the MLIR Optimization Passes are enabled (registered 2)\n"
     ]
    },
    {
     "name": "stdout",
     "output_type": "stream",
     "text": [
      "191/191 [==============================] - 15s 56ms/step - loss: 0.5820 - accuracy: 0.6736 - val_loss: 0.4500 - val_accuracy: 0.8030\n",
      "Epoch 2/50\n",
      "191/191 [==============================] - 9s 49ms/step - loss: 0.2963 - accuracy: 0.8867 - val_loss: 0.4878 - val_accuracy: 0.7912\n",
      "Epoch 3/50\n",
      "191/191 [==============================] - 10s 52ms/step - loss: 0.1432 - accuracy: 0.9514 - val_loss: 0.6353 - val_accuracy: 0.7643\n",
      "Epoch 4/50\n",
      "191/191 [==============================] - 9s 49ms/step - loss: 0.0820 - accuracy: 0.9750 - val_loss: 0.7490 - val_accuracy: 0.7446\n",
      "Epoch 5/50\n",
      "191/191 [==============================] - 10s 50ms/step - loss: 0.0589 - accuracy: 0.9813 - val_loss: 0.7520 - val_accuracy: 0.7656\n",
      "Epoch 6/50\n",
      "191/191 [==============================] - 10s 52ms/step - loss: 0.0477 - accuracy: 0.9833 - val_loss: 0.8142 - val_accuracy: 0.7636\n",
      "Epoch 7/50\n",
      "191/191 [==============================] - 10s 50ms/step - loss: 0.0377 - accuracy: 0.9849 - val_loss: 0.7827 - val_accuracy: 0.7636\n",
      "Epoch 8/50\n",
      "191/191 [==============================] - 10s 50ms/step - loss: 0.0326 - accuracy: 0.9860 - val_loss: 0.7749 - val_accuracy: 0.7630\n",
      "Epoch 9/50\n",
      "191/191 [==============================] - 9s 50ms/step - loss: 0.0293 - accuracy: 0.9869 - val_loss: 0.9613 - val_accuracy: 0.7630\n",
      "Epoch 10/50\n",
      "191/191 [==============================] - 10s 52ms/step - loss: 0.0267 - accuracy: 0.9867 - val_loss: 0.8979 - val_accuracy: 0.7663\n",
      "Epoch 11/50\n",
      "191/191 [==============================] - 10s 50ms/step - loss: 0.0243 - accuracy: 0.9867 - val_loss: 1.1408 - val_accuracy: 0.7676\n",
      "Epoch 12/50\n",
      "191/191 [==============================] - 9s 49ms/step - loss: 0.0222 - accuracy: 0.9872 - val_loss: 1.4525 - val_accuracy: 0.7577\n",
      "Epoch 13/50\n",
      "191/191 [==============================] - 10s 52ms/step - loss: 0.0242 - accuracy: 0.9885 - val_loss: 1.2029 - val_accuracy: 0.7649\n",
      "Epoch 14/50\n",
      "191/191 [==============================] - 9s 49ms/step - loss: 0.0229 - accuracy: 0.9870 - val_loss: 1.1173 - val_accuracy: 0.7544\n",
      "Epoch 15/50\n",
      "191/191 [==============================] - 9s 49ms/step - loss: 0.0211 - accuracy: 0.9875 - val_loss: 1.2295 - val_accuracy: 0.7571\n",
      "Epoch 16/50\n",
      "191/191 [==============================] - 10s 52ms/step - loss: 0.0206 - accuracy: 0.9875 - val_loss: 1.2790 - val_accuracy: 0.7610\n",
      "Epoch 17/50\n",
      "191/191 [==============================] - 10s 50ms/step - loss: 0.0202 - accuracy: 0.9883 - val_loss: 1.4279 - val_accuracy: 0.7623\n",
      "Epoch 18/50\n",
      "191/191 [==============================] - 9s 49ms/step - loss: 0.0203 - accuracy: 0.9875 - val_loss: 1.3830 - val_accuracy: 0.7597\n",
      "Epoch 19/50\n",
      "191/191 [==============================] - 10s 50ms/step - loss: 0.0202 - accuracy: 0.9878 - val_loss: 1.6123 - val_accuracy: 0.7695\n",
      "Epoch 20/50\n",
      "191/191 [==============================] - 10s 52ms/step - loss: 0.0210 - accuracy: 0.9877 - val_loss: 1.5690 - val_accuracy: 0.7630\n",
      "Epoch 21/50\n",
      "191/191 [==============================] - 9s 49ms/step - loss: 0.0202 - accuracy: 0.9872 - val_loss: 1.9508 - val_accuracy: 0.7636\n",
      "Epoch 22/50\n",
      "191/191 [==============================] - 10s 50ms/step - loss: 0.0205 - accuracy: 0.9869 - val_loss: 1.4909 - val_accuracy: 0.7623\n",
      "Epoch 23/50\n",
      "191/191 [==============================] - 10s 51ms/step - loss: 0.0208 - accuracy: 0.9877 - val_loss: 1.3218 - val_accuracy: 0.7630\n",
      "Epoch 24/50\n",
      "191/191 [==============================] - 9s 49ms/step - loss: 0.0203 - accuracy: 0.9882 - val_loss: 1.6715 - val_accuracy: 0.7682\n",
      "Epoch 25/50\n",
      "191/191 [==============================] - 9s 50ms/step - loss: 0.0199 - accuracy: 0.9880 - val_loss: 1.4756 - val_accuracy: 0.7663\n",
      "Epoch 26/50\n",
      "191/191 [==============================] - 10s 52ms/step - loss: 0.0197 - accuracy: 0.9880 - val_loss: 1.6948 - val_accuracy: 0.7630\n",
      "Epoch 27/50\n",
      "191/191 [==============================] - 9s 50ms/step - loss: 0.0241 - accuracy: 0.9870 - val_loss: 1.4484 - val_accuracy: 0.7472\n",
      "Epoch 28/50\n",
      "191/191 [==============================] - 9s 49ms/step - loss: 0.0320 - accuracy: 0.9849 - val_loss: 1.3152 - val_accuracy: 0.7544\n",
      "Epoch 29/50\n",
      "191/191 [==============================] - 10s 52ms/step - loss: 0.0245 - accuracy: 0.9867 - val_loss: 1.3084 - val_accuracy: 0.7518\n",
      "Epoch 30/50\n",
      "191/191 [==============================] - 10s 52ms/step - loss: 0.0210 - accuracy: 0.9880 - val_loss: 1.4137 - val_accuracy: 0.7511\n",
      "Epoch 31/50\n",
      "191/191 [==============================] - 9s 49ms/step - loss: 0.0205 - accuracy: 0.9883 - val_loss: 1.5714 - val_accuracy: 0.7551\n",
      "Epoch 32/50\n",
      "191/191 [==============================] - 10s 50ms/step - loss: 0.0200 - accuracy: 0.9875 - val_loss: 1.5019 - val_accuracy: 0.7485\n",
      "Epoch 33/50\n",
      "191/191 [==============================] - 10s 52ms/step - loss: 0.0195 - accuracy: 0.9885 - val_loss: 1.6873 - val_accuracy: 0.7485\n",
      "Epoch 34/50\n",
      "191/191 [==============================] - 10s 50ms/step - loss: 0.0195 - accuracy: 0.9878 - val_loss: 1.4522 - val_accuracy: 0.7505\n",
      "Epoch 35/50\n",
      "191/191 [==============================] - 10s 50ms/step - loss: 0.0203 - accuracy: 0.9878 - val_loss: 1.4263 - val_accuracy: 0.7551\n",
      "Epoch 36/50\n",
      "191/191 [==============================] - 10s 52ms/step - loss: 0.0193 - accuracy: 0.9880 - val_loss: 1.6524 - val_accuracy: 0.7439\n",
      "Epoch 37/50\n",
      "191/191 [==============================] - 9s 49ms/step - loss: 0.0193 - accuracy: 0.9878 - val_loss: 1.6404 - val_accuracy: 0.7551\n",
      "Epoch 38/50\n",
      "191/191 [==============================] - 9s 49ms/step - loss: 0.0192 - accuracy: 0.9890 - val_loss: 1.6645 - val_accuracy: 0.7557\n",
      "Epoch 39/50\n",
      "191/191 [==============================] - 10s 51ms/step - loss: 0.0215 - accuracy: 0.9882 - val_loss: 1.6086 - val_accuracy: 0.7439\n",
      "Epoch 40/50\n",
      "191/191 [==============================] - 10s 52ms/step - loss: 0.0192 - accuracy: 0.9878 - val_loss: 1.5912 - val_accuracy: 0.7400\n",
      "Epoch 41/50\n",
      "191/191 [==============================] - 10s 50ms/step - loss: 0.0190 - accuracy: 0.9887 - val_loss: 1.6284 - val_accuracy: 0.7367\n",
      "Epoch 42/50\n",
      "191/191 [==============================] - 10s 50ms/step - loss: 0.0187 - accuracy: 0.9892 - val_loss: 1.7062 - val_accuracy: 0.7492\n",
      "Epoch 43/50\n",
      "191/191 [==============================] - 10s 52ms/step - loss: 0.0188 - accuracy: 0.9885 - val_loss: 1.7312 - val_accuracy: 0.7439\n",
      "Epoch 44/50\n",
      "191/191 [==============================] - 9s 49ms/step - loss: 0.0188 - accuracy: 0.9888 - val_loss: 1.5337 - val_accuracy: 0.7413\n",
      "Epoch 45/50\n",
      "191/191 [==============================] - 10s 50ms/step - loss: 0.0188 - accuracy: 0.9882 - val_loss: 1.6970 - val_accuracy: 0.7433\n",
      "Epoch 46/50\n",
      "191/191 [==============================] - 10s 52ms/step - loss: 0.0187 - accuracy: 0.9883 - val_loss: 1.7165 - val_accuracy: 0.7413\n",
      "Epoch 47/50\n",
      "191/191 [==============================] - 10s 50ms/step - loss: 0.0187 - accuracy: 0.9892 - val_loss: 1.8064 - val_accuracy: 0.7420\n",
      "Epoch 48/50\n",
      "191/191 [==============================] - 10s 50ms/step - loss: 0.0188 - accuracy: 0.9882 - val_loss: 1.6652 - val_accuracy: 0.7498\n",
      "Epoch 49/50\n",
      "191/191 [==============================] - 10s 52ms/step - loss: 0.0195 - accuracy: 0.9897 - val_loss: 1.6357 - val_accuracy: 0.7577\n",
      "Epoch 50/50\n",
      "191/191 [==============================] - 11s 58ms/step - loss: 0.0199 - accuracy: 0.9888 - val_loss: 1.7954 - val_accuracy: 0.7577\n"
     ]
    }
   ],
   "source": [
    "num_epochs = 50\n",
    "\n",
    "training_padded=np.array(training_padded)\n",
    "valid_padded=np.array(valid_padded)\n",
    "\n",
    "history = model.fit(training_padded,\n",
    "                    y_train,\n",
    "                    batch_size=32,\n",
    "                    epochs=num_epochs,\n",
    "                    validation_data=(valid_padded, y_valid))\n"
   ]
  },
  {
   "cell_type": "code",
   "execution_count": 13,
   "id": "ba9c1473",
   "metadata": {
    "execution": {
     "iopub.execute_input": "2022-02-22T16:43:33.767037Z",
     "iopub.status.busy": "2022-02-22T16:43:33.766349Z",
     "iopub.status.idle": "2022-02-22T16:43:34.200643Z",
     "shell.execute_reply": "2022-02-22T16:43:34.201118Z",
     "shell.execute_reply.started": "2022-02-22T16:34:27.790673Z"
    },
    "papermill": {
     "duration": 1.940179,
     "end_time": "2022-02-22T16:43:34.201288",
     "exception": false,
     "start_time": "2022-02-22T16:43:32.261109",
     "status": "completed"
    },
    "tags": []
   },
   "outputs": [
    {
     "data": {
      "image/png": "[encoded data removed]",
      "text/plain": [
       "<Figure size 432x288 with 1 Axes>"
      ]
     },
     "metadata": {
      "needs_background": "light"
     },
     "output_type": "display_data"
    },
    {
     "data": {
      "image/png": "[encoded data removed]",
      "text/plain": [
       "<Figure size 432x288 with 1 Axes>"
      ]
     },
     "metadata": {
      "needs_background": "light"
     },
     "output_type": "display_data"
    }
   ],
   "source": [
    "import matplotlib.pyplot as plt\n",
    "\n",
    "\n",
    "def plot_graphs(history, string):\n",
    "  plt.plot(history.history[string])\n",
    "  plt.plot(history.history['val_'+string])\n",
    "  plt.xlabel(\"Epochs\")\n",
    "  plt.ylabel(string)\n",
    "  plt.legend([string, 'val_'+string])\n",
    "  plt.show()\n",
    "\n",
    "plot_graphs(history, 'accuracy')\n",
    "plot_graphs(history, 'loss')"
   ]
  },
  {
   "cell_type": "markdown",
   "id": "5aa0458a",
   "metadata": {
    "papermill": {
     "duration": 1.508761,
     "end_time": "2022-02-22T16:43:37.208488",
     "exception": false,
     "start_time": "2022-02-22T16:43:35.699727",
     "status": "completed"
    },
    "tags": []
   },
   "source": [
    "# Prediction for testing data"
   ]
  },
  {
   "cell_type": "code",
   "execution_count": 14,
   "id": "c128c804",
   "metadata": {
    "execution": {
     "iopub.execute_input": "2022-02-22T16:43:40.278986Z",
     "iopub.status.busy": "2022-02-22T16:43:40.278358Z",
     "iopub.status.idle": "2022-02-22T16:43:41.724460Z",
     "shell.execute_reply": "2022-02-22T16:43:41.724934Z",
     "shell.execute_reply.started": "2022-02-22T16:34:33.041720Z"
    },
    "papermill": {
     "duration": 3.005125,
     "end_time": "2022-02-22T16:43:41.725153",
     "exception": false,
     "start_time": "2022-02-22T16:43:38.720028",
     "status": "completed"
    },
    "tags": []
   },
   "outputs": [],
   "source": [
    "testing_padded=np.array(testing_padded)\n",
    "pred=model.predict(testing_padded)"
   ]
  },
  {
   "cell_type": "code",
   "execution_count": 15,
   "id": "0f4b3156",
   "metadata": {
    "execution": {
     "iopub.execute_input": "2022-02-22T16:43:44.723149Z",
     "iopub.status.busy": "2022-02-22T16:43:44.722590Z",
     "iopub.status.idle": "2022-02-22T16:43:45.054485Z",
     "shell.execute_reply": "2022-02-22T16:43:45.053988Z",
     "shell.execute_reply.started": "2022-02-22T16:34:35.332026Z"
    },
    "papermill": {
     "duration": 1.82425,
     "end_time": "2022-02-22T16:43:45.054613",
     "exception": false,
     "start_time": "2022-02-22T16:43:43.230363",
     "status": "completed"
    },
    "tags": []
   },
   "outputs": [
    {
     "data": {
      "text/plain": [
       "<AxesSubplot:xlabel='target', ylabel='count'>"
      ]
     },
     "execution_count": 15,
     "metadata": {},
     "output_type": "execute_result"
    },
    {
     "data": {
      "image/png": "[encoded data removed]",
      "text/plain": [
       "<Figure size 432x288 with 1 Axes>"
      ]
     },
     "metadata": {
      "needs_background": "light"
     },
     "output_type": "display_data"
    }
   ],
   "source": [
    "#make the probability that greater than 70% to be 1 and another is 0\n",
    "def prediction(datas):\n",
    "    result=[]\n",
    "    data=np.array(datas)\n",
    "    for i in range(len(data)):\n",
    "        if data[i]>=0.7:\n",
    "            result.append(1)\n",
    "        else: result.append(0)\n",
    "    return result\n",
    "\n",
    "#prediction in 0 and 1\n",
    "final_prediction=prediction(pred)\n",
    "\n",
    "import seaborn as sns\n",
    "plot = pd.DataFrame(final_prediction,columns=[\"target\"])\n",
    "sns.countplot(x=\"target\",data=plot)"
   ]
  },
  {
   "cell_type": "markdown",
   "id": "d5e40e75",
   "metadata": {
    "papermill": {
     "duration": 1.49129,
     "end_time": "2022-02-22T16:43:48.047497",
     "exception": false,
     "start_time": "2022-02-22T16:43:46.556207",
     "status": "completed"
    },
    "tags": []
   },
   "source": [
    "# make submission"
   ]
  },
  {
   "cell_type": "code",
   "execution_count": 16,
   "id": "48a16a6c",
   "metadata": {
    "execution": {
     "iopub.execute_input": "2022-02-22T16:43:51.144509Z",
     "iopub.status.busy": "2022-02-22T16:43:51.143510Z",
     "iopub.status.idle": "2022-02-22T16:43:51.157632Z",
     "shell.execute_reply": "2022-02-22T16:43:51.158100Z",
     "shell.execute_reply.started": "2022-02-22T16:34:42.257613Z"
    },
    "papermill": {
     "duration": 1.522877,
     "end_time": "2022-02-22T16:43:51.158298",
     "exception": false,
     "start_time": "2022-02-22T16:43:49.635421",
     "status": "completed"
    },
    "tags": []
   },
   "outputs": [
    {
     "name": "stdout",
     "output_type": "stream",
     "text": [
      "submission complete\n"
     ]
    }
   ],
   "source": [
    "output = pd.DataFrame({'id': test_data.id, 'target': final_prediction})\n",
    "output.to_csv('submission.csv', index=False)\n",
    "print('submission complete')"
   ]
  },
  {
   "cell_type": "code",
   "execution_count": null,
   "id": "a10a9c27",
   "metadata": {
    "papermill": {
     "duration": 1.500685,
     "end_time": "2022-02-22T16:43:54.215967",
     "exception": false,
     "start_time": "2022-02-22T16:43:52.715282",
     "status": "completed"
    },
    "tags": []
   },
   "outputs": [],
   "source": []
  }
 ],
 "metadata": {
  "kernelspec": {
   "display_name": "Python 3",
   "language": "python",
   "name": "python3"
  },
  "language_info": {
   "codemirror_mode": {
    "name": "ipython",
    "version": 3
   },
   "file_extension": ".py",
   "mimetype": "text/x-python",
   "name": "python",
   "nbconvert_exporter": "python",
   "pygments_lexer": "ipython3",
   "version": "3.7.12"
  },
  "papermill": {
   "default_parameters": {},
   "duration": 537.303341,
   "end_time": "2022-02-22T16:43:58.701841",
   "environment_variables": {},
   "exception": null,
   "input_path": "__notebook__.ipynb",
   "output_path": "__notebook__.ipynb",
   "parameters": {},
   "start_time": "2022-02-22T16:35:01.398500",
   "version": "2.3.3"
  }
 },
 "nbformat": 4,
 "nbformat_minor": 5
}
